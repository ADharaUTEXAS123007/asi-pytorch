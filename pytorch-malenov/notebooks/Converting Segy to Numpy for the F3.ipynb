{
 "cells": [
  {
   "cell_type": "code",
   "execution_count": 1,
   "metadata": {},
   "outputs": [
    {
     "name": "stdout",
     "output_type": "stream",
     "text": [
      "(651, 951, 462)\n"
     ]
    }
   ],
   "source": [
    "import os\n",
    "os.chdir(\"../\")\n",
    "import segyio\n",
    "import numpy as np\n",
    "from shutil import copyfile\n",
    "\n",
    "filename = '../data/malenov/Dutch Government_F3_entire_8bit seismic.segy'\n",
    "inlines = []\n",
    "with segyio.open(filename, \"r\") as segyfile:\n",
    "\n",
    "    # Memory map file for faster reading (especially if file is big...)\n",
    "    segyfile.mmap()\n",
    "    \n",
    "    for inline in segyfile.ilines:\n",
    "        inlines.append(segyfile.iline[inline])\n",
    "\n",
    "inlines = np.array(inlines)\n",
    "print(inlines.shape)"
   ]
  },
  {
   "cell_type": "code",
   "execution_count": 2,
   "metadata": {},
   "outputs": [
    {
     "name": "stdout",
     "output_type": "stream",
     "text": [
      "[[    0     0     0 ...  -685  -569     0]\n",
      " [    0     0     0 ... -2683 -2175   774]\n",
      " [    0     0     0 ... -1588 -1499   473]\n",
      " ...\n",
      " [    0     0     0 ...  -971  -832 -1247]\n",
      " [    0     0     0 ... -1702 -1506 -1023]\n",
      " [    0     0     0 ... -2689 -1088   -31]]\n"
     ]
    }
   ],
   "source": [
    "print(inlines[0].astype(np.int16))"
   ]
  },
  {
   "cell_type": "code",
   "execution_count": 9,
   "metadata": {
    "collapsed": true
   },
   "outputs": [],
   "source": [
    "np.save(\"../data/malenov/seismic_cube.npy\", np.expand_dims(inlines, 3).astype(np.int16))"
   ]
  },
  {
   "cell_type": "code",
   "execution_count": null,
   "metadata": {
    "collapsed": true
   },
   "outputs": [],
   "source": []
  }
 ],
 "metadata": {
  "kernelspec": {
   "display_name": "Python [default]",
   "language": "python",
   "name": "python3"
  },
  "language_info": {
   "codemirror_mode": {
    "name": "ipython",
    "version": 3
   },
   "file_extension": ".py",
   "mimetype": "text/x-python",
   "name": "python",
   "nbconvert_exporter": "python",
   "pygments_lexer": "ipython3",
   "version": "3.6.6"
  }
 },
 "nbformat": 4,
 "nbformat_minor": 2
}
