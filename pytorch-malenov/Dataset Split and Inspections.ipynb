{
 "cells": [
  {
   "cell_type": "code",
   "execution_count": 22,
   "metadata": {},
   "outputs": [
    {
     "name": "stdout",
     "output_type": "stream",
     "text": [
      "The autoreload extension is already loaded. To reload it, use:\n",
      "  %reload_ext autoreload\n"
     ]
    }
   ],
   "source": [
    "%load_ext autoreload\n",
    "%autoreload 2\n",
    "%matplotlib inline\n",
    "import numpy as np\n",
    "import matplotlib.pyplot as plt\n",
    "from sklearn.cross_validation import StratifiedShuffleSplit\n",
    "from tqdm import tqdm_notebook as tqdm\n",
    "from sklearn.metrics import accuracy_score"
   ]
  },
  {
   "cell_type": "markdown",
   "metadata": {},
   "source": [
    "# Malenov Dataset"
   ]
  },
  {
   "cell_type": "markdown",
   "metadata": {},
   "source": [
    "Let's load the malenov dataset. This has been extracted from [MalenoV Github](https://github.com/bolgebrygg/MalenoV) using @JesperDramschs modified split code [here](https://github.com/JesperDramsch/MalenoV/tree/master/malenov).\n",
    "\n",
    "The extracted data and seismic has also been stored in this [Google Drive](https://drive.google.com/open?id=1qeUTCsTBtjj7GbBXClwdguVwoLwcdO7h)  \n",
    "Original Data is found [here](https://drive.google.com/drive/folders/0B7brcf-eGK8CRUhfRW9rSG91bW8) provided via PeterBormann (ConoccoPhilips)"
   ]
  },
  {
   "cell_type": "code",
   "execution_count": 65,
   "metadata": {},
   "outputs": [
    {
     "name": "stdout",
     "output_type": "stream",
     "text": [
      "Total Number of labeled points 158557\n"
     ]
    }
   ],
   "source": [
    "data_dir = \"../../data/malenov/\"\n",
    "labels = np.load(data_dir+\"labels.npy\")\n",
    "indices = np.load(data_dir+\"indices.npy\")\n",
    "print(\"Total Number of labeled points\", labels.shape[0])\n",
    "\n",
    "index_mins = indices.min(0)\n",
    "index_maxs = indices.max(0)"
   ]
  },
  {
   "cell_type": "markdown",
   "metadata": {},
   "source": [
    "We'll set the cube half size to that of the original MalenoV implementation."
   ]
  },
  {
   "cell_type": "code",
   "execution_count": 66,
   "metadata": {},
   "outputs": [],
   "source": [
    "cube_half_size = 32"
   ]
  },
  {
   "cell_type": "markdown",
   "metadata": {},
   "source": [
    "## Extracting the valid data points given the cube half size\n",
    "\n",
    "We'll have to make sure all our data points are within the bounds of the seismic given the size of the patches being (32*32+1)^3.  "
   ]
  },
  {
   "cell_type": "code",
   "execution_count": 67,
   "metadata": {},
   "outputs": [],
   "source": [
    "valid_indices = []\n",
    "valid_labels = []\n",
    "for index, label in zip(indices, labels):\n",
    "    if [(index_mins[i]+cube_half_size <= index[i] < index_maxs[i]-cube_half_size) for i in range(1,3)] == [True]*2:\n",
    "        valid_indices.append(index)\n",
    "        valid_labels.append(label)\n",
    "valid_indices = np.array(valid_indices)\n",
    "valid_labels = np.array(valid_labels)"
   ]
  },
  {
   "cell_type": "markdown",
   "metadata": {},
   "source": [
    "## Plotting the data within the bounds"
   ]
  },
  {
   "cell_type": "code",
   "execution_count": 68,
   "metadata": {},
   "outputs": [
    {
     "data": {
      "text/plain": [
       "<matplotlib.image.AxesImage at 0x7f0e8c226198>"
      ]
     },
     "execution_count": 68,
     "metadata": {},
     "output_type": "execute_result"
    },
    {
     "data": {
      "image/png": "[encoded data removed]",
      "text/plain": [
       "<Figure size 432x288 with 1 Axes>"
      ]
     },
     "metadata": {},
     "output_type": "display_data"
    }
   ],
   "source": [
    "img = np.zeros((949, 462), dtype=np.int8)\n",
    "for i in range(len(valid_indices)):\n",
    "    img[valid_indices[i][1], valid_indices[i][2]] = valid_labels[i]+1\n",
    "    \n",
    "plt.imshow(img.T)"
   ]
  },
  {
   "cell_type": "markdown",
   "metadata": {},
   "source": [
    "## Class label distribution for the valid labels within bounds"
   ]
  },
  {
   "cell_type": "code",
   "execution_count": 69,
   "metadata": {},
   "outputs": [
    {
     "name": "stdout",
     "output_type": "stream",
     "text": [
      "Number of labels per class:  [19407 17012 13041 10858 17991 18160 16064  7518 18854]\n"
     ]
    },
    {
     "data": {
      "image/png": "[encoded data removed]",
      "text/plain": [
       "<Figure size 432x288 with 1 Axes>"
      ]
     },
     "metadata": {},
     "output_type": "display_data"
    }
   ],
   "source": [
    "plt.hist(valid_labels)\n",
    "print(\"Number of labels per class: \", np.unique(valid_labels, return_counts=True)[1])"
   ]
  },
  {
   "cell_type": "markdown",
   "metadata": {},
   "source": [
    "## Possible Data Leak with overlapping patches"
   ]
  },
  {
   "cell_type": "markdown",
   "metadata": {},
   "source": [
    "Just training on patches of data is going to create a data leak from train to validation/test.\n",
    "Let's also split the dataset into two.  \n",
    "The indices below are x-coordinates to split regions per class into roughly two regions: train and validation."
   ]
  },
  {
   "cell_type": "code",
   "execution_count": 72,
   "metadata": {},
   "outputs": [],
   "source": [
    "x_split_indices = [500, 500, 300, 500, 500, 500, 500, 575, 750] #class 0, class 1 etc"
   ]
  },
  {
   "cell_type": "code",
   "execution_count": 73,
   "metadata": {},
   "outputs": [],
   "source": [
    "valid_train_indices = []\n",
    "valid_val_indices = []\n",
    "valid_train_labels = []\n",
    "valid_val_labels = []\n",
    "\n",
    "for i in range(len(valid_indices)):\n",
    "    if valid_indices[i][1] <= x_split_indices[valid_labels[i]]-cube_half_size:\n",
    "        valid_train_indices.append(valid_indices[i])\n",
    "        valid_train_labels.append(valid_labels[i])\n",
    "    elif valid_indices[i][1] > x_split_indices[valid_labels[i]]+cube_half_size:\n",
    "        valid_val_indices.append(valid_indices[i])\n",
    "        valid_val_labels.append(valid_labels[i])  "
   ]
  },
  {
   "cell_type": "markdown",
   "metadata": {},
   "source": [
    "## Plotting the training labels split left right"
   ]
  },
  {
   "cell_type": "code",
   "execution_count": 75,
   "metadata": {},
   "outputs": [
    {
     "data": {
      "text/plain": [
       "Text(0.5,1,'Validation Labels')"
      ]
     },
     "execution_count": 75,
     "metadata": {},
     "output_type": "execute_result"
    },
    {
     "data": {
      "image/png": "[encoded data removed]",
      "text/plain": [
       "<Figure size 864x1728 with 2 Axes>"
      ]
     },
     "metadata": {},
     "output_type": "display_data"
    }
   ],
   "source": [
    "img_train = np.zeros((949, 462), dtype=np.int8)\n",
    "for i in range(len(valid_train_indices)):\n",
    "    img_train[valid_train_indices[i][1], valid_train_indices[i][2]] = valid_train_labels[i]+2\n",
    "\n",
    "img_val = np.zeros((949, 462), dtype=np.int8)\n",
    "for i in range(len(valid_val_indices)):\n",
    "    img_val[valid_val_indices[i][1], valid_val_indices[i][2]] = valid_val_labels[i]+2\n",
    "\n",
    "    \n",
    "fig, ax = plt.subplots(1, 2, figsize=(12, 24))\n",
    "ax[0].imshow(img_train.T)\n",
    "ax[1].imshow(img_val.T)\n",
    "ax[0].set_title(\"Training Labels\")\n",
    "ax[1].set_title(\"Validation Labels\")"
   ]
  },
  {
   "cell_type": "markdown",
   "metadata": {},
   "source": [
    "## Train/Val Class Label Distributions\n",
    "\n",
    "A bit unbalanced on class 4 but close enough for now."
   ]
  },
  {
   "cell_type": "code",
   "execution_count": 76,
   "metadata": {},
   "outputs": [
    {
     "data": {
      "text/plain": [
       "(array([7066., 6371., 6037., 4069.,    0., 2489., 8233., 6969.,  752.,\n",
       "        7656.]),\n",
       " array([0. , 0.8, 1.6, 2.4, 3.2, 4. , 4.8, 5.6, 6.4, 7.2, 8. ]),\n",
       " <a list of 10 Patch objects>)"
      ]
     },
     "execution_count": 76,
     "metadata": {},
     "output_type": "execute_result"
    },
    {
     "data": {
      "image/png": "[encoded data removed]",
      "text/plain": [
       "<Figure size 432x288 with 1 Axes>"
      ]
     },
     "metadata": {},
     "output_type": "display_data"
    }
   ],
   "source": [
    "plt.hist(valid_train_labels)\n",
    "plt.hist(valid_val_labels, alpha=0.5)"
   ]
  },
  {
   "cell_type": "markdown",
   "metadata": {},
   "source": [
    "## Saving left/right split indices for training purposes\n",
    "\n",
    "To run Pytorch-MalenoV with this dataset split, run it without the ```--use_stratified_kfold``` flag."
   ]
  },
  {
   "cell_type": "code",
   "execution_count": 62,
   "metadata": {},
   "outputs": [],
   "source": [
    "split_train = np.array([valid_train_indices, valid_train_labels])\n",
    "split_val = np.array([valid_val_indices, valid_val_labels])\n",
    "np.save(\"../split/train_split.npy\", split_train)\n",
    "np.save(\"../split/val_split.npy\", split_val)"
   ]
  },
  {
   "cell_type": "code",
   "execution_count": null,
   "metadata": {},
   "outputs": [],
   "source": []
  }
 ],
 "metadata": {
  "kernelspec": {
   "display_name": "Python [conda env:dlenv]",
   "language": "python",
   "name": "conda-env-dlenv-py"
  },
  "language_info": {
   "codemirror_mode": {
    "name": "ipython",
    "version": 3
   },
   "file_extension": ".py",
   "mimetype": "text/x-python",
   "name": "python",
   "nbconvert_exporter": "python",
   "pygments_lexer": "ipython3",
   "version": "3.6.5"
  }
 },
 "nbformat": 4,
 "nbformat_minor": 2
}
